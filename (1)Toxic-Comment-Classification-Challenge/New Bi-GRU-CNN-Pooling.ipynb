{
 "cells": [
  {
   "cell_type": "code",
   "execution_count": 1,
   "metadata": {},
   "outputs": [
    {
     "name": "stdout",
     "output_type": "stream",
     "text": [
      "best_model.hdf5\n",
      "crawl-300d-2M.vec\n",
      "fasttext-crawl-300d-2m.zip\n",
      "glove.6B.50d.txt\n",
      "glove.840B.300d.txt\n",
      "glove.840B.300d.txt.zip\n",
      "Guru.ipynb\n",
      "New Guru- Bi-GRU-CNN-Pooling.ipynb\n",
      "notebook.ipynb\n",
      "Replacers.py\n",
      "sample_submission.csv\n",
      "submission.csv\n",
      "submission-Guru-10.csv\n",
      "submission-Guru-11.csv\n",
      "submission-Guru-12.csv\n",
      "submission-Guru-13.csv\n",
      "submission_version-1(LSTM).csv\n",
      "submission_version-2(LSTM+tanh+softmax).csv\n",
      "submission_version-3_GRU.csv\n",
      "submission_version-4_CNN.csv\n",
      "submission_version-5_GRU.csv\n",
      "submission_version-6_LSTM+ConvNet.csv\n",
      "submission_version-7+GRU_Pre.csv\n",
      "submission_version-8+GRU_withoutPre.csv\n",
      "test.csv\n",
      "Test_witout_stop.csv\n",
      "Toxic_Prediction_with_keras.ipynb\n",
      "Toxic_Prediction_with_keras_VERSION-01.ipynb\n",
      "Toxic_Solution.ipynb\n",
      "train.csv\n",
      "Train_without_stop.csv\n",
      "\n"
     ]
    }
   ],
   "source": [
    "import time\n",
    "start_time = time.time()\n",
    "from subprocess import check_output\n",
    "print(check_output([\"ls\", \"./\"]).decode('utf8'))"
   ]
  },
  {
   "cell_type": "code",
   "execution_count": 2,
   "metadata": {},
   "outputs": [
    {
     "name": "stderr",
     "output_type": "stream",
     "text": [
      "Using TensorFlow backend.\n"
     ]
    },
    {
     "name": "stdout",
     "output_type": "stream",
     "text": [
      "['Toxic', 'kaggle-competitions']\n"
     ]
    }
   ],
   "source": [
    "# This Python 3 environment comes with many helpful analytics libraries installed\n",
    "# It is defined by the kaggle/python docker image: https://github.com/kaggle/docker-python\n",
    "# For example, here's several helpful packages to load in \n",
    "\n",
    "import numpy as np # linear algebra\n",
    "import pandas as pd # data processing, CSV file I/O (e.g. pd.read_csv)\n",
    "from sklearn.model_selection import train_test_split\n",
    "from sklearn.metrics import roc_auc_score\n",
    "from keras.models import Model\n",
    "from keras.layers import Input, Dense, Embedding, SpatialDropout1D, concatenate\n",
    "from keras.layers import GRU, Bidirectional, GlobalAveragePooling1D, GlobalMaxPooling1D\n",
    "from keras.preprocessing import text, sequence\n",
    "from keras.callbacks import Callback\n",
    "\n",
    "from sklearn.model_selection import train_test_split\n",
    "import sys, os, re, csv, codecs, numpy as np, pandas as pd\n",
    "np.random.seed(32)\n",
    "os.environ[\"OMP_NUM_THREADS\"] = \"4\"\n",
    "from keras.preprocessing.text import Tokenizer\n",
    "from keras.preprocessing.sequence import pad_sequences\n",
    "from keras.layers import Dense, Input, LSTM, Embedding, Dropout, Activation, Conv1D\n",
    "from keras.layers import Bidirectional, GlobalMaxPool1D, MaxPooling1D, Add, Flatten\n",
    "from keras.layers import GlobalAveragePooling1D, GlobalMaxPooling1D, concatenate, SpatialDropout1D\n",
    "from keras.models import Model, load_model\n",
    "from keras import initializers, regularizers, constraints, optimizers, layers, callbacks\n",
    "from keras import backend as K\n",
    "from keras.engine import InputSpec, Layer\n",
    "\n",
    "# Input data files are available in the \"../input/\" directory.\n",
    "# For example, running this (by clicking run or pressing Shift+Enter) will list the files in the input directory\n",
    "\n",
    "import os\n",
    "os.environ['OMP_NUM_THREADS'] = '4'\n",
    "print(os.listdir(\"../\"))\n",
    "\n",
    "# Any results you write to the current directory are saved as output."
   ]
  },
  {
   "cell_type": "code",
   "execution_count": 3,
   "metadata": {
    "collapsed": true
   },
   "outputs": [],
   "source": [
    "def standardize_text(df, text_field):\n",
    "    df[text_field] = df[text_field].str.replace(r\"http\\S+\", \"LINK\")\n",
    "    df[text_field] = df[text_field].str.replace(r\"http\", \"LINK\")\n",
    "    df[text_field] = df[text_field].str.replace(r\"xml\\\\S+\", \"LINK\")\n",
    "    df[text_field] = df[text_field].str.replace(r\"@\\S+\", \"\")\n",
    "    df[text_field] = df[text_field].str.replace(r\"[^A-Za-z0-9(),!?@\\'\\`\\\"\\_\\n]\", \" \")\n",
    "    \n",
    "    df[text_field] = df[text_field].str.replace(r\"\\\\b(a|e)w+\\\\b\", \"AWWWW\")\n",
    "    df[text_field] = df[text_field].str.replace(r\"\\\\b(y)a+\\\\b\", \"YAAAA\")\n",
    "    df[text_field] = df[text_field].str.replace(r\"\\\\b(w)w+\\\\b\", \"WWWWW\")\n",
    "    df[text_field] = df[text_field].str.replace(r\"\\\\b(b+)?((h+)((a|e|i|o|u)+)(h+)?){2,}\\\\b\", \"HAHEHI\")\n",
    "    df[text_field] = df[text_field].str.replace(r\"\\\\b(b+)?(((a|e|i|o|u)+)(h+)((a|e|i|o|u)+)?){2,}\\\\b\", \"HAHEHI\")\n",
    "    df[text_field] = df[text_field].str.replace(r\"\\\\b(m+)?(u+)?(b+)?(w+)?((a+)|(h+))+\\\\b\", \"HAHEHI\")\n",
    "    df[text_field] = df[text_field].str.replace(r\"\\\\b((e+)(h+))+\\\\b\", \"HAHEHI\",)\n",
    "    df[text_field] = df[text_field].str.replace(r\"\\\\b((e+)(h+))+\\\\b\", \"HAHEHI\",)\n",
    "    df[text_field] = df[text_field].str.replace(r\"\\\\b((o+)(h+))+\\\\b\", \"HAHEHI\")\n",
    "    df[text_field] = df[text_field].str.replace(r\"\\\\b((h+)(o+))+\\\\b\", \"HAHEHI\")\n",
    "    df[text_field] = df[text_field].str.replace(r\"\\\\b((l+)(a+))+\\\\b\", \"LALALA\")\n",
    "    df[text_field] = df[text_field].str.replace(r\"(w+)(o+)(h+)(o+)\", \"WOHOO\")\n",
    "    df[text_field] = df[text_field].str.replace(r\"\\\\b(d?(u+)(n+)?(h+))\\\\b\", \"UUUHHH\")\n",
    "    df[text_field] = df[text_field].str.replace(r\"\\\\b(a+)(r+)(g+)(h+)\\\\b\", \"ARGH\")\n",
    "    df[text_field] = df[text_field].str.replace(r\"\\\\b(a+)(w+)(h+)\\\\b\", \"AAAWWHH\")\n",
    "    df[text_field] = df[text_field].str.replace(r\"\\\\b(p+)(s+)(h+)\\\\b\", \"SHHHHH\")\n",
    "    df[text_field] = df[text_field].str.replace(r\"\\\\b((s+)(e+)?(h+))+\\\\b\", \"SHHHHH\" )                                               \n",
    "    df[text_field] = df[text_field].str.replace(r\"\\\\b(s+)(o+)\\\\b\", \"\")\n",
    "    df[text_field] = df[text_field].str.replace(r\"\\\\b(h+)(m+)\\\\b\", \"HHMM\")\n",
    "    df[text_field] = df[text_field].str.replace(r\"\\\\b((b+)(l+)(a+)(h+)?)+\\\\b\", \"BLABLA\")\n",
    "    df[text_field] = df[text_field].str.replace(r\"\\\\b((y+)(e+)(a+)(h+)?)+\\\\b\", \"YEAH\")                                               \n",
    "    df[text_field] = df[text_field].str.replace(r\"\\\\b((z+)?(o+)(m+)(f+)?(g+))+\\\\b\", \"OMG\"  )\n",
    "    df[text_field] = df[text_field].str.replace(r\"\\\\b((y+)(e+)(a+)(h+)?)+\\\\b\", \"YEAH\"   )\n",
    "    df[text_field] = df[text_field].str.replace(r\"aa(a+)\", \"a\")\n",
    "    df[text_field] = df[text_field].str.replace(r\"ee(e+)\", \"e\")\n",
    "    df[text_field] = df[text_field].str.replace(r\"i(i+)\", \"i\")\n",
    "    df[text_field] = df[text_field].str.replace(r\"oo(o+)\", \"o\")\n",
    "    df[text_field] = df[text_field].str.replace(r\"uu(u+)\", \"u\")\n",
    "    df[text_field] = df[text_field].str.replace(r\"\\\\b(u(u+))\\\\b\", \"u\")\n",
    "    df[text_field] = df[text_field].str.replace(r\"y(y+)\", \"y\")\n",
    "    df[text_field] = df[text_field].str.replace(r\"hh(h+)\", \"h\")\n",
    "    df[text_field] = df[text_field].str.replace(r\"gg(g+)\", \"g\")\n",
    "    df[text_field] = df[text_field].str.replace(r\"tt(t+)\\\\b\", \"t\")\n",
    "    df[text_field] = df[text_field].str.replace(r\"(tt(t+))\", \"tt\")\n",
    "    df[text_field] = df[text_field].str.replace(r\"mm(m+)\", \"m\")\n",
    "    df[text_field] = df[text_field].str.replace(r\"ff(f+)\", \"f\")\n",
    "    df[text_field] = df[text_field].str.replace(r\"cc(c+)\", \"c\")\n",
    "    df[text_field] = df[text_field].str.replace(r\"\\\\b(kkk)\\\\b\", \"KKK\")\n",
    "    df[text_field] = df[text_field].str.replace(r\"\\\\b(pkk)\\\\b\", \"PKK\")\n",
    "    df[text_field] = df[text_field].str.replace(r\"kk(k+)\", \"kk\")\n",
    "    df[text_field] = df[text_field].str.replace(r\"fukk\", \"fuck\")\n",
    "    df[text_field] = df[text_field].str.replace(r\"k(k+)\\\\b\", \"k\")\n",
    "    df[text_field] = df[text_field].str.replace(r\"f+u+c+k+\\\\b\", \"fuck\")\n",
    "    df[text_field] = df[text_field].str.replace(r\"((a+)|(h+)){3,}\", \"HAHEHI\")\n",
    "    df[text_field] = df[text_field].str.replace(r\"yeah\", \"YEAH\")\n",
    "    df[text_field] = df[text_field].str.replace(r\"(?<=\\\\b\\\\w)\\\\s(?=\\\\w\\\\b)\", \"\")\n",
    "    df[text_field] = df[text_field].str.replace(r\"@\\\\w+\", \" \")\n",
    "    df[text_field] = df[text_field].str.replace(r\"[^[:graph:]]\", \" \")\n",
    "    df[text_field] = df[text_field].str.replace(r\"[[:punct:]]\", \" \")\n",
    "    df[text_field] = df[text_field].str.replace(r\"[[:digit:]]\", \" \")\n",
    "    df[text_field] = df[text_field].str.replace(r\"\\\\s+\", \" \")\n",
    "    df[text_field] = df[text_field].str.replace(r\"((lol)(o?))+\\\\b\", \"LOL\")\n",
    "    df[text_field] = df[text_field].str.replace(r\"n ig ger\", \"nigger\")\n",
    "    df[text_field] = df[text_field].str.replace(r\"nig ger\", \"nigger\")\n",
    "    df[text_field] = df[text_field].str.replace(r\"s hit\", \"shit\")\n",
    "    df[text_field] = df[text_field].str.replace(r\"g ay\", \"gay\")\n",
    "    df[text_field] = df[text_field].str.replace(r\"f ag got\", \"faggot\")\n",
    "    df[text_field] = df[text_field].str.replace(r\"c ock\", \"cock\")\n",
    "    df[text_field] = df[text_field].str.replace(r\"cu nt\", \"cunt\")\n",
    "    df[text_field] = df[text_field].str.replace(r\"idi ot\", \"idiot\")\n",
    "    df[text_field] = df[text_field].str.replace(r\"(?<=\\\\b(fu|su|di|co|li))\\\\s(?=(ck)\\\\b)\", \"\")\n",
    "    df[text_field] = df[text_field].str.replace(r\"(?<=\\\\w(ck))\\\\s(?=(ing)\\\\b)\", \"\")\n",
    "    df[text_field] = df[text_field].str.replace(r\"\\\\b(.)\\\\1+\\\\b\", \" \")\n",
    "    df[text_field] = df[text_field].str.replace(r\"((lol)(o?))+\", \"LOL\")\n",
    "    df[text_field] = df[text_field].str.replace(r\"(?<=\\\\b(fu|su|di|co|li))\\\\s(?=(ck)\\\\b)\", \"\")\n",
    "    df[text_field] = df[text_field].str.replace(r\"(?<=\\\\w(ck))\\\\s(?=(ing)\\\\b)\", \"\")\n",
    "    df[text_field] = df[text_field].str.replace(r\"(?<=\\\\w(uc))\\\\s(?=(ing)\\\\b)\", \"\")\n",
    "    df[text_field] = df[text_field].str.replace(r\"(?<=\\\\b(fu|su|di|co|li))\\\\s(?=(ck)\\\\w)\", \"\")\n",
    "    df[text_field] = df[text_field].str.replace(r\"cocksu cking\", \"cock sucking\")\n",
    "    df[text_field] = df[text_field].str.replace(r\"du mbfu ck\", \"dumbfuck\")\n",
    "    df[text_field] = df[text_field].str.replace(r\"cu nt\", \"cunt\")\n",
    "    df[text_field] = df[text_field].str.replace(r\"(?<=\\\\b(fu|su|di|co|li))\\\\s(?=(k)\\\\w)\", \"c\")\n",
    "    df[text_field] = df[text_field].str.replace(r\"\\\\s+\", \" \")\n",
    "    df[text_field] = df[text_field].str.replace(r\"\\\\s*$\", \"\")\n",
    "    df[text_field] = df[text_field].str.replace(r\"^\\\\s+\", \"\")\n",
    "    df[text_field] = df[text_field].str.replace(r\"\\\\b(.)\\\\1+\\\\b\", \" \")\n",
    "    df[text_field] = df[text_field].str.replace(r\"\\\\W*\\\\b([a-h|j-z])\\\\b\\\\W*\", \" \")\n",
    "    df[text_field] = df[text_field].str.replace(r\"\\\\s+\", \" \")\n",
    "    df[text_field] = df[text_field].str.replace(r\"\\\\s*$\", \"\")\n",
    "    df[text_field] = df[text_field].str.replace(r\"^\\\\s+\", \"\")\n",
    "        \n",
    "        \n",
    "    df[text_field] = df[text_field].str.replace(r\"@\", \"at\")\n",
    "    df[text_field] = df[text_field].str.replace(r\"&\", \"and\")\n",
    "    df[text_field] = df[text_field].str.replace(r\"$\", \"dollar\")\n",
    "    \n",
    "    df[text_field] = df[text_field].str.replace(r\"what's\", \"what is\")\n",
    "    df[text_field] = df[text_field].str.replace(r\"\\'ve\", \" have\")\n",
    "    df[text_field] = df[text_field].str.replace(r\"can't\", \" can not\")\n",
    "    df[text_field] = df[text_field].str.replace(r\"cannot\", \" can not\")\n",
    "    df[text_field] = df[text_field].str.replace(r\"n't\", \" not\")\n",
    "    df[text_field] = df[text_field].str.replace(r\"i'm\", \"i am\")\n",
    "    df[text_field] = df[text_field].str.replace(r\"\\'re\",\" are\")\n",
    "    df[text_field] = df[text_field].str.replace(r\"\\'d\", \" would\")\n",
    "    df[text_field] = df[text_field].str.replace(r\"\\'ll\", \" will\")\n",
    "    \n",
    "    df[text_field] = df[text_field].str.lower()\n",
    "    return df"
   ]
  },
  {
   "cell_type": "code",
   "execution_count": 4,
   "metadata": {
    "collapsed": true
   },
   "outputs": [],
   "source": [
    "#EMBEDDING_FILE = f'glove.840B.300d.txt'\n",
    "\n",
    "EMBEDDING_FILE = f'crawl-300d-2M.vec'"
   ]
  },
  {
   "cell_type": "code",
   "execution_count": 5,
   "metadata": {
    "collapsed": true
   },
   "outputs": [],
   "source": [
    "train = pd.read_csv(\"train.csv\")\n",
    "test = pd.read_csv(\"test.csv\")"
   ]
  },
  {
   "cell_type": "code",
   "execution_count": 6,
   "metadata": {},
   "outputs": [],
   "source": [
    "train[\"comment_text\"].fillna(\" \")\n",
    "test[\"comment_text\"].fillna(\" \")\n",
    "train = standardize_text(train,\"comment_text\")\n",
    "test = standardize_text(test,\"comment_text\")"
   ]
  },
  {
   "cell_type": "code",
   "execution_count": 7,
   "metadata": {
    "collapsed": true
   },
   "outputs": [],
   "source": [
    "train_x = train[\"comment_text\"].values\n",
    "train_y = train[[\"toxic\", \"severe_toxic\", \"obscene\", \"threat\", \"insult\", \"identity_hate\"]].values\n",
    "test_x = test[\"comment_text\"].values"
   ]
  },
  {
   "cell_type": "code",
   "execution_count": 8,
   "metadata": {
    "collapsed": true
   },
   "outputs": [],
   "source": [
    "embed_size = 300\n",
    "#max_features = 100000\n",
    "max_features = 100500\n",
    "#max_len = 150\n",
    "max_len = 175"
   ]
  },
  {
   "cell_type": "code",
   "execution_count": 9,
   "metadata": {
    "collapsed": true
   },
   "outputs": [],
   "source": [
    "tokenizer = text.Tokenizer(num_words=max_features)\n",
    "tokenizer.fit_on_texts(list(train_x) + list(test_x))"
   ]
  },
  {
   "cell_type": "code",
   "execution_count": 10,
   "metadata": {
    "collapsed": true
   },
   "outputs": [],
   "source": [
    "train_x = tokenizer.texts_to_sequences(train_x)\n",
    "test_x = tokenizer.texts_to_sequences(test_x)"
   ]
  },
  {
   "cell_type": "code",
   "execution_count": 11,
   "metadata": {},
   "outputs": [],
   "source": [
    "train_x = sequence.pad_sequences(train_x, maxlen=max_len)\n",
    "test_x = sequence.pad_sequences(test_x, maxlen=max_len)"
   ]
  },
  {
   "cell_type": "code",
   "execution_count": 12,
   "metadata": {
    "collapsed": true
   },
   "outputs": [],
   "source": [
    "def get_coefs(word, *arr): \n",
    "    return word, np.asarray(arr, dtype='float32')"
   ]
  },
  {
   "cell_type": "code",
   "execution_count": 13,
   "metadata": {
    "collapsed": true
   },
   "outputs": [],
   "source": [
    "embeddings_index = dict(get_coefs(*o.rstrip().rsplit(' ')) for o in open(EMBEDDING_FILE))"
   ]
  },
  {
   "cell_type": "code",
   "execution_count": 14,
   "metadata": {
    "collapsed": true
   },
   "outputs": [],
   "source": [
    "word_index = tokenizer.word_index"
   ]
  },
  {
   "cell_type": "code",
   "execution_count": 15,
   "metadata": {
    "collapsed": true
   },
   "outputs": [],
   "source": [
    "nb_words = min(max_features, len(word_index))"
   ]
  },
  {
   "cell_type": "code",
   "execution_count": 16,
   "metadata": {
    "collapsed": true
   },
   "outputs": [],
   "source": [
    "embedding_matrix = np.zeros((nb_words, embed_size))"
   ]
  },
  {
   "cell_type": "code",
   "execution_count": 17,
   "metadata": {
    "collapsed": true
   },
   "outputs": [],
   "source": [
    "for word, i in word_index.items():\n",
    "    if i >= max_features: continue\n",
    "    embedding_vector = embeddings_index.get(word)\n",
    "    if embedding_vector is not None: embedding_matrix[i] = embedding_vector"
   ]
  },
  {
   "cell_type": "code",
   "execution_count": 18,
   "metadata": {
    "collapsed": true
   },
   "outputs": [],
   "source": [
    "import logging\n",
    "from sklearn.metrics import roc_auc_score\n",
    "from keras.callbacks import Callback\n",
    "\n",
    "class RocAucEvaluation(Callback):\n",
    "    def __init__(self, validation_data=(), interval=1):\n",
    "        super(Callback, self).__init__()\n",
    "\n",
    "        self.interval = interval\n",
    "        self.X_val, self.y_val = validation_data\n",
    "\n",
    "    def on_epoch_end(self, epoch, logs={}):\n",
    "        if epoch % self.interval == 0:\n",
    "            y_pred = self.model.predict(self.X_val, verbose=0)\n",
    "            score = roc_auc_score(self.y_val, y_pred)\n",
    "            print(\"\\n ROC-AUC - epoch: {:d} - score: {:.6f}\".format(epoch+1, score))"
   ]
  },
  {
   "cell_type": "code",
   "execution_count": 19,
   "metadata": {
    "collapsed": true
   },
   "outputs": [],
   "source": [
    "#X_train, X_valid, Y_train, Y_valid = train_test_split(train, y, test_size = 0.1)\n",
    "#X_train, X_valid, Y_train, Y_valid = train_test_split(train_x, train_y, test_size = 0.1, random_state=233)\n",
    "X_train, X_valid, Y_train, Y_valid = train_test_split(train_x, train_y, test_size = 0.05, random_state=233)"
   ]
  },
  {
   "cell_type": "code",
   "execution_count": 20,
   "metadata": {
    "collapsed": true
   },
   "outputs": [],
   "source": [
    "from keras.optimizers import Adam, RMSprop\n",
    "from keras.callbacks import EarlyStopping, ModelCheckpoint, LearningRateScheduler\n",
    "from keras.layers import GRU, BatchNormalization, Conv1D, MaxPooling1D\n",
    "\n",
    "file_path = \"best_model.hdf5\"\n",
    "check_point = ModelCheckpoint(file_path, monitor = \"val_loss\", verbose = 1,\n",
    "                              save_best_only = True, mode = \"min\")\n",
    "ra_val = RocAucEvaluation(validation_data=(X_valid, Y_valid), interval = 1)\n",
    "early_stop = EarlyStopping(monitor = \"val_loss\", mode = \"min\", patience = 5)\n",
    "\n"
   ]
  },
  {
   "cell_type": "code",
   "execution_count": 21,
   "metadata": {
    "collapsed": true
   },
   "outputs": [],
   "source": [
    "def build_model(lr = 0.0, lr_d = 0.0, units = 0, dr = 0.0):\n",
    "    inp = Input(shape = (max_len,))\n",
    "    x = Embedding(max_features, embed_size, weights = [embedding_matrix], trainable = False)(inp)\n",
    "    x = SpatialDropout1D(dr)(x)\n",
    "\n",
    "    #x = Bidirectional(GRU(units, return_sequences = True))(x)\n",
    "    x = Bidirectional(LSTM(units, return_sequences = True))(x)\n",
    "    #x = Conv1D(64, kernel_size = 2, padding = \"valid\", kernel_initializer = \"he_uniform\")(x)\n",
    "    x = Conv1D(64, kernel_size = 3, padding = \"valid\", kernel_initializer = \"glorot_uniform\")(x)\n",
    "    avg_pool = GlobalAveragePooling1D()(x)\n",
    "    max_pool = GlobalMaxPooling1D()(x)\n",
    "    x = concatenate([avg_pool, max_pool])\n",
    "\n",
    "    x = Dense(6, activation = \"sigmoid\")(x)\n",
    "    model = Model(inputs = inp, outputs = x)\n",
    "    model.compile(loss = \"binary_crossentropy\", optimizer = Adam(lr = lr, decay = lr_d), metrics = [\"accuracy\"])\n",
    "    history = model.fit(X_train, Y_train, batch_size = 128, epochs = 4, validation_data = (X_valid, Y_valid), \n",
    "                        verbose = 1, callbacks = [ra_val, check_point, early_stop])\n",
    "    model = load_model(file_path)\n",
    "    return model"
   ]
  },
  {
   "cell_type": "code",
   "execution_count": 22,
   "metadata": {},
   "outputs": [
    {
     "name": "stdout",
     "output_type": "stream",
     "text": [
      "Train on 151592 samples, validate on 7979 samples\n",
      "Epoch 1/4\n",
      "151552/151592 [============================>.] - ETA: 0s - loss: 0.0556 - acc: 0.9802\n",
      " ROC-AUC - epoch: 1 - score: 0.986229\n",
      "Epoch 00001: val_loss improved from inf to 0.04945, saving model to best_model.hdf5\n",
      "151592/151592 [==============================] - 3186s 21ms/step - loss: 0.0556 - acc: 0.9802 - val_loss: 0.0494 - val_acc: 0.9817\n",
      "Epoch 2/4\n",
      "151552/151592 [============================>.] - ETA: 0s - loss: 0.0427 - acc: 0.9836\n",
      " ROC-AUC - epoch: 2 - score: 0.987662\n",
      "Epoch 00002: val_loss improved from 0.04945 to 0.04329, saving model to best_model.hdf5\n",
      "151592/151592 [==============================] - 3674s 24ms/step - loss: 0.0427 - acc: 0.9836 - val_loss: 0.0433 - val_acc: 0.9835\n",
      "Epoch 3/4\n",
      "151552/151592 [============================>.] - ETA: 0s - loss: 0.0401 - acc: 0.9844\n",
      " ROC-AUC - epoch: 3 - score: 0.988943\n",
      "Epoch 00003: val_loss did not improve\n",
      "151592/151592 [==============================] - 3878s 26ms/step - loss: 0.0401 - acc: 0.9844 - val_loss: 0.0435 - val_acc: 0.9839\n",
      "Epoch 4/4\n",
      "151552/151592 [============================>.] - ETA: 0s - loss: 0.0381 - acc: 0.9850\n",
      " ROC-AUC - epoch: 4 - score: 0.989373\n",
      "Epoch 00004: val_loss improved from 0.04329 to 0.04168, saving model to best_model.hdf5\n",
      "151592/151592 [==============================] - 3715s 25ms/step - loss: 0.0381 - acc: 0.9850 - val_loss: 0.0417 - val_acc: 0.9839\n",
      "__________________________________________________________________________________________________\n",
      "Layer (type)                    Output Shape         Param #     Connected to                     \n",
      "==================================================================================================\n",
      "input_1 (InputLayer)            (None, 175)          0                                            \n",
      "__________________________________________________________________________________________________\n",
      "embedding_1 (Embedding)         (None, 175, 300)     30150000    input_1[0][0]                    \n",
      "__________________________________________________________________________________________________\n",
      "spatial_dropout1d_1 (SpatialDro (None, 175, 300)     0           embedding_1[0][0]                \n",
      "__________________________________________________________________________________________________\n",
      "bidirectional_1 (Bidirectional) (None, 175, 256)     439296      spatial_dropout1d_1[0][0]        \n",
      "__________________________________________________________________________________________________\n",
      "conv1d_1 (Conv1D)               (None, 173, 64)      49216       bidirectional_1[0][0]            \n",
      "__________________________________________________________________________________________________\n",
      "global_average_pooling1d_1 (Glo (None, 64)           0           conv1d_1[0][0]                   \n",
      "__________________________________________________________________________________________________\n",
      "global_max_pooling1d_1 (GlobalM (None, 64)           0           conv1d_1[0][0]                   \n",
      "__________________________________________________________________________________________________\n",
      "concatenate_1 (Concatenate)     (None, 128)          0           global_average_pooling1d_1[0][0] \n",
      "                                                                 global_max_pooling1d_1[0][0]     \n",
      "__________________________________________________________________________________________________\n",
      "dense_1 (Dense)                 (None, 6)            774         concatenate_1[0][0]              \n",
      "==================================================================================================\n",
      "Total params: 30,639,286\n",
      "Trainable params: 489,286\n",
      "Non-trainable params: 30,150,000\n",
      "__________________________________________________________________________________________________\n"
     ]
    }
   ],
   "source": [
    "model = build_model(lr = 1e-3, lr_d = 0, units = 128, dr = 0.2)\n",
    "model.summary()"
   ]
  },
  {
   "cell_type": "code",
   "execution_count": 23,
   "metadata": {},
   "outputs": [
    {
     "name": "stdout",
     "output_type": "stream",
     "text": [
      "153164/153164 [==============================] - 1325s 9ms/step\n"
     ]
    }
   ],
   "source": [
    "y_pred = model.predict(test_x, batch_size=1024, verbose=1)"
   ]
  },
  {
   "cell_type": "code",
   "execution_count": 24,
   "metadata": {
    "collapsed": true
   },
   "outputs": [],
   "source": [
    "submission = pd.read_csv('sample_submission.csv')"
   ]
  },
  {
   "cell_type": "code",
   "execution_count": 25,
   "metadata": {
    "collapsed": true
   },
   "outputs": [],
   "source": [
    "submission[[\"toxic\", \"severe_toxic\", \"obscene\", \"threat\", \"insult\", \"identity_hate\"]] = y_pred"
   ]
  },
  {
   "cell_type": "code",
   "execution_count": 26,
   "metadata": {
    "collapsed": true
   },
   "outputs": [],
   "source": [
    "submission.to_csv('submission-Guru_LSTM-14.csv', index=False)"
   ]
  },
  {
   "cell_type": "code",
   "execution_count": 27,
   "metadata": {},
   "outputs": [
    {
     "name": "stdout",
     "output_type": "stream",
     "text": [
      "__________________________________________________________________________________________________\n",
      "Layer (type)                    Output Shape         Param #     Connected to                     \n",
      "==================================================================================================\n",
      "input_1 (InputLayer)            (None, 175)          0                                            \n",
      "__________________________________________________________________________________________________\n",
      "embedding_1 (Embedding)         (None, 175, 300)     30150000    input_1[0][0]                    \n",
      "__________________________________________________________________________________________________\n",
      "spatial_dropout1d_1 (SpatialDro (None, 175, 300)     0           embedding_1[0][0]                \n",
      "__________________________________________________________________________________________________\n",
      "bidirectional_1 (Bidirectional) (None, 175, 256)     439296      spatial_dropout1d_1[0][0]        \n",
      "__________________________________________________________________________________________________\n",
      "conv1d_1 (Conv1D)               (None, 173, 64)      49216       bidirectional_1[0][0]            \n",
      "__________________________________________________________________________________________________\n",
      "global_average_pooling1d_1 (Glo (None, 64)           0           conv1d_1[0][0]                   \n",
      "__________________________________________________________________________________________________\n",
      "global_max_pooling1d_1 (GlobalM (None, 64)           0           conv1d_1[0][0]                   \n",
      "__________________________________________________________________________________________________\n",
      "concatenate_1 (Concatenate)     (None, 128)          0           global_average_pooling1d_1[0][0] \n",
      "                                                                 global_max_pooling1d_1[0][0]     \n",
      "__________________________________________________________________________________________________\n",
      "dense_1 (Dense)                 (None, 6)            774         concatenate_1[0][0]              \n",
      "==================================================================================================\n",
      "Total params: 30,639,286\n",
      "Trainable params: 489,286\n",
      "Non-trainable params: 30,150,000\n",
      "__________________________________________________________________________________________________\n"
     ]
    }
   ],
   "source": [
    "model.summary()"
   ]
  },
  {
   "cell_type": "code",
   "execution_count": 28,
   "metadata": {},
   "outputs": [
    {
     "name": "stdout",
     "output_type": "stream",
     "text": [
      "[16153.535946130753] Completed!\n"
     ]
    }
   ],
   "source": [
    "print(\"[{}] Completed!\".format(time.time() - start_time))"
   ]
  },
  {
   "cell_type": "code",
   "execution_count": null,
   "metadata": {
    "collapsed": true
   },
   "outputs": [],
   "source": []
  }
 ],
 "metadata": {
  "kernelspec": {
   "display_name": "Python 3",
   "language": "python",
   "name": "python3"
  },
  "language_info": {
   "codemirror_mode": {
    "name": "ipython",
    "version": 3
   },
   "file_extension": ".py",
   "mimetype": "text/x-python",
   "name": "python",
   "nbconvert_exporter": "python",
   "pygments_lexer": "ipython3",
   "version": "3.6.3"
  }
 },
 "nbformat": 4,
 "nbformat_minor": 2
}
